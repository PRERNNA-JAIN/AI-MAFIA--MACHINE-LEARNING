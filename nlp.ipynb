{
 "cells": [
  {
   "cell_type": "markdown",
   "metadata": {},
   "source": [
    "# NLTK "
   ]
  },
  {
   "cell_type": "code",
   "execution_count": 1,
   "metadata": {},
   "outputs": [],
   "source": [
    "from nltk.corpus import brown"
   ]
  },
  {
   "cell_type": "markdown",
   "metadata": {},
   "source": [
    "## DATA COLLECTION"
   ]
  },
  {
   "cell_type": "code",
   "execution_count": 2,
   "metadata": {},
   "outputs": [
    {
     "name": "stdout",
     "output_type": "stream",
     "text": [
      "['adventure', 'belles_lettres', 'editorial', 'fiction', 'government', 'hobbies', 'humor', 'learned', 'lore', 'mystery', 'news', 'religion', 'reviews', 'romance', 'science_fiction']\n"
     ]
    }
   ],
   "source": [
    "print(brown.categories())"
   ]
  },
  {
   "cell_type": "code",
   "execution_count": 3,
   "metadata": {},
   "outputs": [
    {
     "name": "stdout",
     "output_type": "stream",
     "text": [
      "<class 'nltk.corpus.reader.util.ConcatenatedCorpusView'> 2997\n"
     ]
    }
   ],
   "source": [
    "data=brown.sents(categories='editorial')#sents gives the document\n",
    "print(type(data),len(data))"
   ]
  },
  {
   "cell_type": "code",
   "execution_count": 4,
   "metadata": {},
   "outputs": [
    {
     "name": "stdout",
     "output_type": "stream",
     "text": [
      "[['Assembly', 'session', 'brought', 'much', 'good'], ['The', 'General', 'Assembly', ',', 'which', 'adjourns', 'today', ',', 'has', 'performed', 'in', 'an', 'atmosphere', 'of', 'crisis', 'and', 'struggle', 'from', 'the', 'day', 'it', 'convened', '.'], ...]\n"
     ]
    }
   ],
   "source": [
    "print(data)"
   ]
  },
  {
   "cell_type": "code",
   "execution_count": 5,
   "metadata": {},
   "outputs": [
    {
     "name": "stdout",
     "output_type": "stream",
     "text": [
      "2997\n"
     ]
    }
   ],
   "source": [
    "print(len(data))"
   ]
  },
  {
   "cell_type": "markdown",
   "metadata": {},
   "source": [
    "# NLP PIPELINE\n"
   ]
  },
  {
   "cell_type": "code",
   "execution_count": 6,
   "metadata": {},
   "outputs": [],
   "source": [
    "# DATA COLLECTION\n",
    "#TOKENISATION,STOPWARDS REMOVAL,STEMMING\n",
    "#BUILDING A VOCAB\n",
    "#VECTORISE THE DOCUMENTS\n",
    "#PERFORMING CLASSIFICATION/CLUSTERING"
   ]
  },
  {
   "cell_type": "markdown",
   "metadata": {},
   "source": [
    "# 2.TOKENISATION"
   ]
  },
  {
   "cell_type": "code",
   "execution_count": 7,
   "metadata": {},
   "outputs": [],
   "source": [
    "text=\"A very plesant day ,the weather was very cool. I went to market to buy some chocolates\""
   ]
  },
  {
   "cell_type": "code",
   "execution_count": 8,
   "metadata": {},
   "outputs": [],
   "source": [
    "from nltk.tokenize import sent_tokenize,word_tokenize"
   ]
  },
  {
   "cell_type": "code",
   "execution_count": 9,
   "metadata": {},
   "outputs": [],
   "source": [
    "sents=sent_tokenize(text)"
   ]
  },
  {
   "cell_type": "code",
   "execution_count": 10,
   "metadata": {},
   "outputs": [
    {
     "name": "stdout",
     "output_type": "stream",
     "text": [
      "['A very plesant day ,the weather was very cool.', 'I went to market to buy some chocolates']\n"
     ]
    }
   ],
   "source": [
    "print(sents)"
   ]
  },
  {
   "cell_type": "code",
   "execution_count": 11,
   "metadata": {},
   "outputs": [],
   "source": [
    "word_list=word_tokenize(sents[0])"
   ]
  },
  {
   "cell_type": "code",
   "execution_count": 12,
   "metadata": {},
   "outputs": [
    {
     "name": "stdout",
     "output_type": "stream",
     "text": [
      "['A', 'very', 'plesant', 'day', ',', 'the', 'weather', 'was', 'very', 'cool', '.']\n"
     ]
    }
   ],
   "source": [
    "print(word_list)"
   ]
  },
  {
   "cell_type": "code",
   "execution_count": 13,
   "metadata": {},
   "outputs": [
    {
     "name": "stdout",
     "output_type": "stream",
     "text": [
      "['A', 'VERY', 'PLESANT', 'DAY', ',', 'THE', 'WEATHER', 'WAS', 'VERY', 'COOL', '.']\n"
     ]
    }
   ],
   "source": [
    "word_list=word_tokenize(sents[0].upper())\n",
    "print(word_list)"
   ]
  },
  {
   "cell_type": "markdown",
   "metadata": {},
   "source": [
    "# STOPWORDS REMOVAL"
   ]
  },
  {
   "cell_type": "code",
   "execution_count": 14,
   "metadata": {},
   "outputs": [],
   "source": [
    "from nltk.corpus import stopwords"
   ]
  },
  {
   "cell_type": "code",
   "execution_count": 15,
   "metadata": {},
   "outputs": [],
   "source": [
    "sw=set(stopwords.words('english'))"
   ]
  },
  {
   "cell_type": "code",
   "execution_count": 16,
   "metadata": {},
   "outputs": [
    {
     "name": "stdout",
     "output_type": "stream",
     "text": [
      "{'few', 'now', 'haven', 'with', \"you've\", 'into', \"hadn't\", 'through', 'over', \"you'd\", 'again', 'being', 'this', 'be', 'themselves', 'yourselves', 'if', 'y', \"didn't\", 'any', 'off', 'mightn', 'shan', 'for', 'about', 'he', \"shan't\", 'when', 'while', 'isn', 'himself', 'same', \"haven't\", 'its', 'have', 'having', 'those', 'both', 'hasn', 'or', 'yours', 'couldn', 'because', 'needn', \"don't\", 'd', 'had', 'should', 'which', 'wouldn', 'itself', 'once', 'of', 'here', 'you', 'under', 'i', 'as', 'your', 'ain', 'no', \"you'll\", 'it', 'don', \"weren't\", 'been', 'above', 'is', 'up', 'will', 'do', 'whom', 'down', \"doesn't\", 's', 'where', 'who', 'just', 'were', \"she's\", \"needn't\", 'o', 'these', 'before', 'some', \"should've\", 'further', 'other', 'weren', 'out', 'that', 'after', 'below', 'only', 'until', 'very', 'an', \"won't\", 'mustn', \"wasn't\", 'too', 'but', 'at', 'to', 'how', 'most', 'theirs', 'am', 'in', 'shouldn', 'the', 'ma', 'aren', 'our', \"mustn't\", 'all', 'there', 'than', 'nor', 'so', 'their', 'my', 'then', 'wasn', 'myself', 'hers', \"that'll\", 'his', \"isn't\", 'from', 're', 'm', 'him', \"shouldn't\", 'doing', 'a', \"aren't\", 'and', 'them', 'hadn', 't', 'her', 'was', 'ours', \"couldn't\", 'between', \"you're\", 'doesn', 'each', \"wouldn't\", 'they', 'can', 've', 'during', 'not', 'she', 'on', 'own', 'didn', \"it's\", 'we', 'are', 'me', \"hasn't\", 'such', 'has', 'by', 'won', 'why', 'ourselves', 'herself', 'yourself', 'did', 'does', 'more', 'against', \"mightn't\", 'll', 'what'}\n"
     ]
    }
   ],
   "source": [
    "print(sw)"
   ]
  },
  {
   "cell_type": "code",
   "execution_count": 17,
   "metadata": {},
   "outputs": [
    {
     "name": "stdout",
     "output_type": "stream",
     "text": [
      "179\n"
     ]
    }
   ],
   "source": [
    "print(len(sw))"
   ]
  },
  {
   "cell_type": "markdown",
   "metadata": {},
   "source": [
    "# FILTER THE WORDS"
   ]
  },
  {
   "cell_type": "code",
   "execution_count": 18,
   "metadata": {},
   "outputs": [],
   "source": [
    "def filter(word_list):\n",
    "    usefl_wrd=[w for w in word_list if w not in sw]\n",
    "    return usefl_wrd"
   ]
  },
  {
   "cell_type": "code",
   "execution_count": 19,
   "metadata": {},
   "outputs": [
    {
     "name": "stdout",
     "output_type": "stream",
     "text": [
      "['A', 'VERY', 'PLESANT', 'DAY', ',', 'THE', 'WEATHER', 'WAS', 'VERY', 'COOL', '.']\n"
     ]
    }
   ],
   "source": [
    "usefl_wrd=filter(word_list)\n",
    "print(usefl_wrd)"
   ]
  },
  {
   "cell_type": "code",
   "execution_count": 20,
   "metadata": {},
   "outputs": [],
   "source": [
    "from nltk.tokenize import RegexpTokenizer"
   ]
  },
  {
   "cell_type": "code",
   "execution_count": 21,
   "metadata": {},
   "outputs": [],
   "source": [
    "tokenizer=RegexpTokenizer(\"[,.]\")"
   ]
  },
  {
   "cell_type": "code",
   "execution_count": 22,
   "metadata": {},
   "outputs": [
    {
     "name": "stdout",
     "output_type": "stream",
     "text": [
      "[',', ',', '.']\n"
     ]
    }
   ],
   "source": [
    "sents=\"send the 50 documents to abc,def,xyz.\"\n",
    "print(tokenizer.tokenize(sents))"
   ]
  },
  {
   "cell_type": "code",
   "execution_count": 23,
   "metadata": {},
   "outputs": [],
   "source": [
    "tokenizer=RegexpTokenizer(\"[a-z0-9]+\")"
   ]
  },
  {
   "cell_type": "code",
   "execution_count": 24,
   "metadata": {},
   "outputs": [
    {
     "name": "stdout",
     "output_type": "stream",
     "text": [
      "['send', 'the', '50', 'documents', 'to', 'abc', 'def', 'xyz']\n"
     ]
    }
   ],
   "source": [
    "sents=\"send the 50 documents to abc,def,xyz.\"\n",
    "print(tokenizer.tokenize(sents))"
   ]
  },
  {
   "cell_type": "markdown",
   "metadata": {},
   "source": [
    "# STEMMING"
   ]
  },
  {
   "cell_type": "code",
   "execution_count": 25,
   "metadata": {},
   "outputs": [],
   "source": [
    "# PROCESS THAT TRANSFORM PARTICULAR WORDS INTO ROOT WORDS\n",
    "#JUMPING,JUMP,JUMPED=>jump\n",
    "#WAITING, WAITED, WAIT=>wait"
   ]
  },
  {
   "cell_type": "code",
   "execution_count": 26,
   "metadata": {},
   "outputs": [],
   "source": [
    "text=\"the quick brown fox was seen jumping over the lazy dog from high wall.Foxes love to jump \""
   ]
  },
  {
   "cell_type": "code",
   "execution_count": 27,
   "metadata": {},
   "outputs": [
    {
     "name": "stdout",
     "output_type": "stream",
     "text": [
      "['the', 'quick', 'brown', 'fox', 'was', 'seen', 'jumping', 'over', 'the', 'lazy', 'dog', 'from', 'high', 'wall', 'foxes', 'love', 'to', 'jump']\n"
     ]
    }
   ],
   "source": [
    "word_list= tokenizer.tokenize(text.lower())\n",
    "print(word_list)"
   ]
  },
  {
   "cell_type": "markdown",
   "metadata": {},
   "source": [
    "## types of stemmers"
   ]
  },
  {
   "cell_type": "code",
   "execution_count": 28,
   "metadata": {},
   "outputs": [],
   "source": [
    "#snowball stemmer multilingual\n",
    "#porter stemmer\n",
    "#lancaster stemmer"
   ]
  },
  {
   "cell_type": "code",
   "execution_count": 29,
   "metadata": {},
   "outputs": [],
   "source": [
    "from nltk.stem.snowball import PorterStemmer,SnowballStemmer\n",
    "from nltk.stem.lancaster import LancasterStemmer"
   ]
  },
  {
   "cell_type": "code",
   "execution_count": 30,
   "metadata": {},
   "outputs": [],
   "source": [
    "ps=PorterStemmer()"
   ]
  },
  {
   "cell_type": "code",
   "execution_count": 31,
   "metadata": {},
   "outputs": [
    {
     "data": {
      "text/plain": [
       "'jump'"
      ]
     },
     "execution_count": 31,
     "metadata": {},
     "output_type": "execute_result"
    }
   ],
   "source": [
    "ps.stem(\"jumped\")"
   ]
  },
  {
   "cell_type": "code",
   "execution_count": 32,
   "metadata": {},
   "outputs": [
    {
     "data": {
      "text/plain": [
       "'wait'"
      ]
     },
     "execution_count": 32,
     "metadata": {},
     "output_type": "execute_result"
    }
   ],
   "source": [
    "ps.stem(\"waiting\")"
   ]
  },
  {
   "cell_type": "code",
   "execution_count": 33,
   "metadata": {},
   "outputs": [
    {
     "data": {
      "text/plain": [
       "'awesom'"
      ]
     },
     "execution_count": 33,
     "metadata": {},
     "output_type": "execute_result"
    }
   ],
   "source": [
    "ps.stem(\"awesome\")"
   ]
  },
  {
   "cell_type": "code",
   "execution_count": 34,
   "metadata": {},
   "outputs": [
    {
     "data": {
      "text/plain": [
       "'prernna'"
      ]
     },
     "execution_count": 34,
     "metadata": {},
     "output_type": "execute_result"
    }
   ],
   "source": [
    "ps.stem(\"prernna\")"
   ]
  },
  {
   "cell_type": "code",
   "execution_count": 35,
   "metadata": {},
   "outputs": [
    {
     "name": "stdout",
     "output_type": "stream",
     "text": [
      "teen\n",
      "teenag\n"
     ]
    }
   ],
   "source": [
    "ls=LancasterStemmer()\n",
    "ls.stem(\"awesome\")\n",
    "print(ls.stem(\"teenager\"))\n",
    "print(ps.stem(\"teenager\"))"
   ]
  },
  {
   "cell_type": "code",
   "execution_count": 36,
   "metadata": {},
   "outputs": [
    {
     "data": {
      "text/plain": [
       "'wait'"
      ]
     },
     "execution_count": 36,
     "metadata": {},
     "output_type": "execute_result"
    }
   ],
   "source": [
    "ss=SnowballStemmer('english')\n",
    "ss.stem('waiting')"
   ]
  },
  {
   "cell_type": "code",
   "execution_count": 37,
   "metadata": {},
   "outputs": [
    {
     "data": {
      "text/plain": [
       "'waiting'"
      ]
     },
     "execution_count": 37,
     "metadata": {},
     "output_type": "execute_result"
    }
   ],
   "source": [
    "ss=SnowballStemmer('french')\n",
    "ss.stem('waiting')"
   ]
  },
  {
   "cell_type": "markdown",
   "metadata": {},
   "source": [
    "# BAG OF WORDS"
   ]
  },
  {
   "cell_type": "code",
   "execution_count": 38,
   "metadata": {},
   "outputs": [],
   "source": [
    "corpus=['Indian cricket team will win world cup says captain Virat,world cup will be held at india in next year.',\n",
    "       'We will win next lokh sabha election ,says Indian PM',\n",
    "       'The novel Rabindranath tagore won the heart of people',\n",
    "        'The movie Razzi is an exciting Thriller based upon real story'\n",
    "       ]"
   ]
  },
  {
   "cell_type": "code",
   "execution_count": 39,
   "metadata": {},
   "outputs": [
    {
     "name": "stdout",
     "output_type": "stream",
     "text": [
      "['Indian cricket team will win world cup says captain Virat,world cup will be held at india in next year.', 'We will win next lokh sabha election ,says Indian PM', 'The novel Rabindranath tagore won the heart of people', 'The movie Razzi is an exciting Thriller based upon real story']\n"
     ]
    }
   ],
   "source": [
    "print(corpus)"
   ]
  },
  {
   "cell_type": "code",
   "execution_count": 41,
   "metadata": {},
   "outputs": [
    {
     "name": "stdout",
     "output_type": "stream",
     "text": [
      "15\n"
     ]
    }
   ],
   "source": [
    "def myTokenizer(sentence):\n",
    "    words=tokenizer.tokenize(sentence.lower())\n",
    "    return filter(words)\n",
    "list_words=myTokenizer(corpus[0])\n",
    "print(len(list_words))"
   ]
  },
  {
   "cell_type": "code",
   "execution_count": 42,
   "metadata": {},
   "outputs": [
    {
     "name": "stdout",
     "output_type": "stream",
     "text": [
      "['indian', 'cricket', 'team', 'win', 'world', 'cup', 'says', 'captain', 'virat', 'world', 'cup', 'held', 'india', 'next', 'year']\n"
     ]
    }
   ],
   "source": [
    "print(myTokenizer(corpus[0]))"
   ]
  },
  {
   "cell_type": "code",
   "execution_count": 44,
   "metadata": {},
   "outputs": [],
   "source": [
    "from sklearn.feature_extraction.text import CountVectorizer"
   ]
  },
  {
   "cell_type": "code",
   "execution_count": 45,
   "metadata": {},
   "outputs": [],
   "source": [
    "cv=CountVectorizer(tokenizer=myTokenizer)"
   ]
  },
  {
   "cell_type": "code",
   "execution_count": 50,
   "metadata": {},
   "outputs": [],
   "source": [
    "vectorized_corpus=cv.fit_transform(corpus)"
   ]
  },
  {
   "cell_type": "code",
   "execution_count": 51,
   "metadata": {},
   "outputs": [
    {
     "name": "stdout",
     "output_type": "stream",
     "text": [
      "  (0, 9)\t1\n",
      "  (0, 2)\t1\n",
      "  (0, 23)\t1\n",
      "  (0, 27)\t1\n",
      "  (0, 28)\t2\n",
      "  (0, 3)\t2\n",
      "  (0, 20)\t1\n",
      "  (0, 1)\t1\n",
      "  (0, 26)\t1\n",
      "  (0, 7)\t1\n",
      "  (0, 8)\t1\n",
      "  (0, 12)\t1\n",
      "  (0, 29)\t1\n",
      "  (1, 9)\t1\n",
      "  (1, 27)\t1\n",
      "  (1, 20)\t1\n",
      "  (1, 12)\t1\n",
      "  (1, 10)\t1\n",
      "  (1, 19)\t1\n",
      "  (1, 4)\t1\n",
      "  (1, 15)\t1\n",
      "  (2, 13)\t1\n",
      "  (2, 16)\t1\n",
      "  (2, 22)\t1\n",
      "  (2, 6)\t1\n",
      "  (2, 14)\t1\n",
      "  (3, 11)\t1\n",
      "  (3, 17)\t1\n",
      "  (3, 5)\t1\n",
      "  (3, 24)\t1\n",
      "  (3, 0)\t1\n",
      "  (3, 25)\t1\n",
      "  (3, 18)\t1\n",
      "  (3, 21)\t1\n"
     ]
    }
   ],
   "source": [
    "print(vectorized_corpus)"
   ]
  },
  {
   "cell_type": "code",
   "execution_count": 52,
   "metadata": {},
   "outputs": [],
   "source": [
    "vc=vectorized_corpus.toarray()"
   ]
  },
  {
   "cell_type": "code",
   "execution_count": 57,
   "metadata": {},
   "outputs": [
    {
     "name": "stdout",
     "output_type": "stream",
     "text": [
      "[0 1 1 2 0 0 0 1 1 1 0 0 1 0 0 0 0 0 0 0 1 0 0 1 0 0 1 1 2 1]\n",
      "{'indian': 9, 'cricket': 2, 'team': 23, 'win': 27, 'world': 28, 'cup': 3, 'says': 20, 'captain': 1, 'virat': 26, 'held': 7, 'india': 8, 'next': 12, 'year': 29, 'lokh': 10, 'sabha': 19, 'election': 4, 'pm': 15, 'novel': 13, 'rabindranath': 16, 'tagore': 22, 'heart': 6, 'people': 14, 'movie': 11, 'razzi': 17, 'exciting': 5, 'thriller': 24, 'based': 0, 'upon': 25, 'real': 18, 'story': 21}\n"
     ]
    }
   ],
   "source": [
    "print(vc[0])\n",
    "print(cv.vocabulary_)"
   ]
  },
  {
   "cell_type": "code",
   "execution_count": 58,
   "metadata": {},
   "outputs": [
    {
     "data": {
      "text/plain": [
       "[array(['captain', 'cricket', 'cup', 'held', 'india', 'indian', 'next',\n",
       "        'says', 'team', 'virat', 'win', 'world', 'year'], dtype='<U12')]"
      ]
     },
     "execution_count": 58,
     "metadata": {},
     "output_type": "execute_result"
    }
   ],
   "source": [
    "cv.inverse_transform(vc[0])"
   ]
  },
  {
   "cell_type": "code",
   "execution_count": null,
   "metadata": {},
   "outputs": [],
   "source": []
  }
 ],
 "metadata": {
  "kernelspec": {
   "display_name": "Python 3",
   "language": "python",
   "name": "python3"
  },
  "language_info": {
   "codemirror_mode": {
    "name": "ipython",
    "version": 3
   },
   "file_extension": ".py",
   "mimetype": "text/x-python",
   "name": "python",
   "nbconvert_exporter": "python",
   "pygments_lexer": "ipython3",
   "version": "3.8.5"
  }
 },
 "nbformat": 4,
 "nbformat_minor": 4
}
