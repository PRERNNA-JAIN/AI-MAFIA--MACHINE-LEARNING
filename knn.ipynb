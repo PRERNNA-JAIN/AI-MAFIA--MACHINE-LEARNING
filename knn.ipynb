{
 "cells": [
  {
   "cell_type": "code",
   "execution_count": 23,
   "metadata": {},
   "outputs": [],
   "source": [
    "import numpy as np\n",
    "import pandas as pd\n",
    "import matplotlib.pyplot as plt\n",
    "plt.style.use('seaborn')"
   ]
  },
  {
   "cell_type": "code",
   "execution_count": 12,
   "metadata": {},
   "outputs": [],
   "source": [
    "dfx=pd.read_csv(\"xdata.csv\")\n"
   ]
  },
  {
   "cell_type": "code",
   "execution_count": 13,
   "metadata": {},
   "outputs": [],
   "source": [
    "dfy=pd.read_csv(\"ydata.csv\")"
   ]
  },
  {
   "cell_type": "code",
   "execution_count": 14,
   "metadata": {},
   "outputs": [
    {
     "name": "stdout",
     "output_type": "stream",
     "text": [
      "(399, 3)\n"
     ]
    }
   ],
   "source": [
    "print(dfx.shape)"
   ]
  },
  {
   "cell_type": "code",
   "execution_count": 16,
   "metadata": {},
   "outputs": [
    {
     "name": "stdout",
     "output_type": "stream",
     "text": [
      "(399, 2)\n"
     ]
    }
   ],
   "source": [
    "print(dfy.shape)"
   ]
  },
  {
   "cell_type": "code",
   "execution_count": 17,
   "metadata": {},
   "outputs": [],
   "source": [
    "x=dfx.values\n",
    "y=dfy.values"
   ]
  },
  {
   "cell_type": "code",
   "execution_count": 18,
   "metadata": {},
   "outputs": [
    {
     "name": "stdout",
     "output_type": "stream",
     "text": [
      "[[ 1.00000000e+00  3.51627900e+00  3.71975047e+00]\n",
      " [ 2.00000000e+00  4.60649561e+00  3.41437943e+00]\n",
      " [ 3.00000000e+00  4.67701056e+00  3.04724443e+00]\n",
      " ...\n",
      " [ 3.97000000e+02  7.89625683e-01  9.31669806e-01]\n",
      " [ 3.98000000e+02 -1.00253042e+00 -6.76162472e-01]\n",
      " [ 3.99000000e+02  2.92386778e-01  5.61177823e-01]]\n"
     ]
    }
   ],
   "source": [
    "print(x)"
   ]
  },
  {
   "cell_type": "code",
   "execution_count": 19,
   "metadata": {},
   "outputs": [
    {
     "name": "stdout",
     "output_type": "stream",
     "text": [
      "[[  1.   0.]\n",
      " [  2.   0.]\n",
      " [  3.   0.]\n",
      " [  4.   0.]\n",
      " [  5.   0.]\n",
      " [  6.   0.]\n",
      " [  7.   0.]\n",
      " [  8.   0.]\n",
      " [  9.   0.]\n",
      " [ 10.   0.]\n",
      " [ 11.   0.]\n",
      " [ 12.   0.]\n",
      " [ 13.   0.]\n",
      " [ 14.   0.]\n",
      " [ 15.   0.]\n",
      " [ 16.   0.]\n",
      " [ 17.   0.]\n",
      " [ 18.   0.]\n",
      " [ 19.   0.]\n",
      " [ 20.   0.]\n",
      " [ 21.   0.]\n",
      " [ 22.   0.]\n",
      " [ 23.   0.]\n",
      " [ 24.   0.]\n",
      " [ 25.   0.]\n",
      " [ 26.   0.]\n",
      " [ 27.   0.]\n",
      " [ 28.   0.]\n",
      " [ 29.   0.]\n",
      " [ 30.   0.]\n",
      " [ 31.   0.]\n",
      " [ 32.   0.]\n",
      " [ 33.   0.]\n",
      " [ 34.   0.]\n",
      " [ 35.   0.]\n",
      " [ 36.   0.]\n",
      " [ 37.   0.]\n",
      " [ 38.   0.]\n",
      " [ 39.   0.]\n",
      " [ 40.   0.]\n",
      " [ 41.   0.]\n",
      " [ 42.   0.]\n",
      " [ 43.   0.]\n",
      " [ 44.   0.]\n",
      " [ 45.   0.]\n",
      " [ 46.   0.]\n",
      " [ 47.   0.]\n",
      " [ 48.   0.]\n",
      " [ 49.   0.]\n",
      " [ 50.   0.]\n",
      " [ 51.   0.]\n",
      " [ 52.   0.]\n",
      " [ 53.   0.]\n",
      " [ 54.   0.]\n",
      " [ 55.   0.]\n",
      " [ 56.   0.]\n",
      " [ 57.   0.]\n",
      " [ 58.   0.]\n",
      " [ 59.   0.]\n",
      " [ 60.   0.]\n",
      " [ 61.   0.]\n",
      " [ 62.   0.]\n",
      " [ 63.   0.]\n",
      " [ 64.   0.]\n",
      " [ 65.   0.]\n",
      " [ 66.   0.]\n",
      " [ 67.   0.]\n",
      " [ 68.   0.]\n",
      " [ 69.   0.]\n",
      " [ 70.   0.]\n",
      " [ 71.   0.]\n",
      " [ 72.   0.]\n",
      " [ 73.   0.]\n",
      " [ 74.   0.]\n",
      " [ 75.   0.]\n",
      " [ 76.   0.]\n",
      " [ 77.   0.]\n",
      " [ 78.   0.]\n",
      " [ 79.   0.]\n",
      " [ 80.   0.]\n",
      " [ 81.   0.]\n",
      " [ 82.   0.]\n",
      " [ 83.   0.]\n",
      " [ 84.   0.]\n",
      " [ 85.   0.]\n",
      " [ 86.   0.]\n",
      " [ 87.   0.]\n",
      " [ 88.   0.]\n",
      " [ 89.   0.]\n",
      " [ 90.   0.]\n",
      " [ 91.   0.]\n",
      " [ 92.   0.]\n",
      " [ 93.   0.]\n",
      " [ 94.   0.]\n",
      " [ 95.   0.]\n",
      " [ 96.   0.]\n",
      " [ 97.   0.]\n",
      " [ 98.   0.]\n",
      " [ 99.   0.]\n",
      " [100.   0.]\n",
      " [101.   0.]\n",
      " [102.   0.]\n",
      " [103.   0.]\n",
      " [104.   0.]\n",
      " [105.   0.]\n",
      " [106.   0.]\n",
      " [107.   0.]\n",
      " [108.   0.]\n",
      " [109.   0.]\n",
      " [110.   0.]\n",
      " [111.   0.]\n",
      " [112.   0.]\n",
      " [113.   0.]\n",
      " [114.   0.]\n",
      " [115.   0.]\n",
      " [116.   0.]\n",
      " [117.   0.]\n",
      " [118.   0.]\n",
      " [119.   0.]\n",
      " [120.   0.]\n",
      " [121.   0.]\n",
      " [122.   0.]\n",
      " [123.   0.]\n",
      " [124.   0.]\n",
      " [125.   0.]\n",
      " [126.   0.]\n",
      " [127.   0.]\n",
      " [128.   0.]\n",
      " [129.   0.]\n",
      " [130.   0.]\n",
      " [131.   0.]\n",
      " [132.   0.]\n",
      " [133.   0.]\n",
      " [134.   0.]\n",
      " [135.   0.]\n",
      " [136.   0.]\n",
      " [137.   0.]\n",
      " [138.   0.]\n",
      " [139.   0.]\n",
      " [140.   0.]\n",
      " [141.   0.]\n",
      " [142.   0.]\n",
      " [143.   0.]\n",
      " [144.   0.]\n",
      " [145.   0.]\n",
      " [146.   0.]\n",
      " [147.   0.]\n",
      " [148.   0.]\n",
      " [149.   0.]\n",
      " [150.   0.]\n",
      " [151.   0.]\n",
      " [152.   0.]\n",
      " [153.   0.]\n",
      " [154.   0.]\n",
      " [155.   0.]\n",
      " [156.   0.]\n",
      " [157.   0.]\n",
      " [158.   0.]\n",
      " [159.   0.]\n",
      " [160.   0.]\n",
      " [161.   0.]\n",
      " [162.   0.]\n",
      " [163.   0.]\n",
      " [164.   0.]\n",
      " [165.   0.]\n",
      " [166.   0.]\n",
      " [167.   0.]\n",
      " [168.   0.]\n",
      " [169.   0.]\n",
      " [170.   0.]\n",
      " [171.   0.]\n",
      " [172.   0.]\n",
      " [173.   0.]\n",
      " [174.   0.]\n",
      " [175.   0.]\n",
      " [176.   0.]\n",
      " [177.   0.]\n",
      " [178.   0.]\n",
      " [179.   0.]\n",
      " [180.   0.]\n",
      " [181.   0.]\n",
      " [182.   0.]\n",
      " [183.   0.]\n",
      " [184.   0.]\n",
      " [185.   0.]\n",
      " [186.   0.]\n",
      " [187.   0.]\n",
      " [188.   0.]\n",
      " [189.   0.]\n",
      " [190.   0.]\n",
      " [191.   0.]\n",
      " [192.   0.]\n",
      " [193.   0.]\n",
      " [194.   0.]\n",
      " [195.   0.]\n",
      " [196.   0.]\n",
      " [197.   0.]\n",
      " [198.   0.]\n",
      " [199.   0.]\n",
      " [200.   1.]\n",
      " [201.   1.]\n",
      " [202.   1.]\n",
      " [203.   1.]\n",
      " [204.   1.]\n",
      " [205.   1.]\n",
      " [206.   1.]\n",
      " [207.   1.]\n",
      " [208.   1.]\n",
      " [209.   1.]\n",
      " [210.   1.]\n",
      " [211.   1.]\n",
      " [212.   1.]\n",
      " [213.   1.]\n",
      " [214.   1.]\n",
      " [215.   1.]\n",
      " [216.   1.]\n",
      " [217.   1.]\n",
      " [218.   1.]\n",
      " [219.   1.]\n",
      " [220.   1.]\n",
      " [221.   1.]\n",
      " [222.   1.]\n",
      " [223.   1.]\n",
      " [224.   1.]\n",
      " [225.   1.]\n",
      " [226.   1.]\n",
      " [227.   1.]\n",
      " [228.   1.]\n",
      " [229.   1.]\n",
      " [230.   1.]\n",
      " [231.   1.]\n",
      " [232.   1.]\n",
      " [233.   1.]\n",
      " [234.   1.]\n",
      " [235.   1.]\n",
      " [236.   1.]\n",
      " [237.   1.]\n",
      " [238.   1.]\n",
      " [239.   1.]\n",
      " [240.   1.]\n",
      " [241.   1.]\n",
      " [242.   1.]\n",
      " [243.   1.]\n",
      " [244.   1.]\n",
      " [245.   1.]\n",
      " [246.   1.]\n",
      " [247.   1.]\n",
      " [248.   1.]\n",
      " [249.   1.]\n",
      " [250.   1.]\n",
      " [251.   1.]\n",
      " [252.   1.]\n",
      " [253.   1.]\n",
      " [254.   1.]\n",
      " [255.   1.]\n",
      " [256.   1.]\n",
      " [257.   1.]\n",
      " [258.   1.]\n",
      " [259.   1.]\n",
      " [260.   1.]\n",
      " [261.   1.]\n",
      " [262.   1.]\n",
      " [263.   1.]\n",
      " [264.   1.]\n",
      " [265.   1.]\n",
      " [266.   1.]\n",
      " [267.   1.]\n",
      " [268.   1.]\n",
      " [269.   1.]\n",
      " [270.   1.]\n",
      " [271.   1.]\n",
      " [272.   1.]\n",
      " [273.   1.]\n",
      " [274.   1.]\n",
      " [275.   1.]\n",
      " [276.   1.]\n",
      " [277.   1.]\n",
      " [278.   1.]\n",
      " [279.   1.]\n",
      " [280.   1.]\n",
      " [281.   1.]\n",
      " [282.   1.]\n",
      " [283.   1.]\n",
      " [284.   1.]\n",
      " [285.   1.]\n",
      " [286.   1.]\n",
      " [287.   1.]\n",
      " [288.   1.]\n",
      " [289.   1.]\n",
      " [290.   1.]\n",
      " [291.   1.]\n",
      " [292.   1.]\n",
      " [293.   1.]\n",
      " [294.   1.]\n",
      " [295.   1.]\n",
      " [296.   1.]\n",
      " [297.   1.]\n",
      " [298.   1.]\n",
      " [299.   1.]\n",
      " [300.   1.]\n",
      " [301.   1.]\n",
      " [302.   1.]\n",
      " [303.   1.]\n",
      " [304.   1.]\n",
      " [305.   1.]\n",
      " [306.   1.]\n",
      " [307.   1.]\n",
      " [308.   1.]\n",
      " [309.   1.]\n",
      " [310.   1.]\n",
      " [311.   1.]\n",
      " [312.   1.]\n",
      " [313.   1.]\n",
      " [314.   1.]\n",
      " [315.   1.]\n",
      " [316.   1.]\n",
      " [317.   1.]\n",
      " [318.   1.]\n",
      " [319.   1.]\n",
      " [320.   1.]\n",
      " [321.   1.]\n",
      " [322.   1.]\n",
      " [323.   1.]\n",
      " [324.   1.]\n",
      " [325.   1.]\n",
      " [326.   1.]\n",
      " [327.   1.]\n",
      " [328.   1.]\n",
      " [329.   1.]\n",
      " [330.   1.]\n",
      " [331.   1.]\n",
      " [332.   1.]\n",
      " [333.   1.]\n",
      " [334.   1.]\n",
      " [335.   1.]\n",
      " [336.   1.]\n",
      " [337.   1.]\n",
      " [338.   1.]\n",
      " [339.   1.]\n",
      " [340.   1.]\n",
      " [341.   1.]\n",
      " [342.   1.]\n",
      " [343.   1.]\n",
      " [344.   1.]\n",
      " [345.   1.]\n",
      " [346.   1.]\n",
      " [347.   1.]\n",
      " [348.   1.]\n",
      " [349.   1.]\n",
      " [350.   1.]\n",
      " [351.   1.]\n",
      " [352.   1.]\n",
      " [353.   1.]\n",
      " [354.   1.]\n",
      " [355.   1.]\n",
      " [356.   1.]\n",
      " [357.   1.]\n",
      " [358.   1.]\n",
      " [359.   1.]\n",
      " [360.   1.]\n",
      " [361.   1.]\n",
      " [362.   1.]\n",
      " [363.   1.]\n",
      " [364.   1.]\n",
      " [365.   1.]\n",
      " [366.   1.]\n",
      " [367.   1.]\n",
      " [368.   1.]\n",
      " [369.   1.]\n",
      " [370.   1.]\n",
      " [371.   1.]\n",
      " [372.   1.]\n",
      " [373.   1.]\n",
      " [374.   1.]\n",
      " [375.   1.]\n",
      " [376.   1.]\n",
      " [377.   1.]\n",
      " [378.   1.]\n",
      " [379.   1.]\n",
      " [380.   1.]\n",
      " [381.   1.]\n",
      " [382.   1.]\n",
      " [383.   1.]\n",
      " [384.   1.]\n",
      " [385.   1.]\n",
      " [386.   1.]\n",
      " [387.   1.]\n",
      " [388.   1.]\n",
      " [389.   1.]\n",
      " [390.   1.]\n",
      " [391.   1.]\n",
      " [392.   1.]\n",
      " [393.   1.]\n",
      " [394.   1.]\n",
      " [395.   1.]\n",
      " [396.   1.]\n",
      " [397.   1.]\n",
      " [398.   1.]\n",
      " [399.   1.]]\n"
     ]
    }
   ],
   "source": [
    "print(y)"
   ]
  },
  {
   "cell_type": "code",
   "execution_count": 20,
   "metadata": {},
   "outputs": [],
   "source": [
    "x=x[:, 1:]\n",
    "y=y[:, 1:].reshape((-1,))"
   ]
  },
  {
   "cell_type": "code",
   "execution_count": 21,
   "metadata": {},
   "outputs": [
    {
     "name": "stdout",
     "output_type": "stream",
     "text": [
      "[0. 0. 0. 0. 0. 0. 0. 0. 0. 0. 0. 0. 0. 0. 0. 0. 0. 0. 0. 0. 0. 0. 0. 0.\n",
      " 0. 0. 0. 0. 0. 0. 0. 0. 0. 0. 0. 0. 0. 0. 0. 0. 0. 0. 0. 0. 0. 0. 0. 0.\n",
      " 0. 0. 0. 0. 0. 0. 0. 0. 0. 0. 0. 0. 0. 0. 0. 0. 0. 0. 0. 0. 0. 0. 0. 0.\n",
      " 0. 0. 0. 0. 0. 0. 0. 0. 0. 0. 0. 0. 0. 0. 0. 0. 0. 0. 0. 0. 0. 0. 0. 0.\n",
      " 0. 0. 0. 0. 0. 0. 0. 0. 0. 0. 0. 0. 0. 0. 0. 0. 0. 0. 0. 0. 0. 0. 0. 0.\n",
      " 0. 0. 0. 0. 0. 0. 0. 0. 0. 0. 0. 0. 0. 0. 0. 0. 0. 0. 0. 0. 0. 0. 0. 0.\n",
      " 0. 0. 0. 0. 0. 0. 0. 0. 0. 0. 0. 0. 0. 0. 0. 0. 0. 0. 0. 0. 0. 0. 0. 0.\n",
      " 0. 0. 0. 0. 0. 0. 0. 0. 0. 0. 0. 0. 0. 0. 0. 0. 0. 0. 0. 0. 0. 0. 0. 0.\n",
      " 0. 0. 0. 0. 0. 0. 0. 1. 1. 1. 1. 1. 1. 1. 1. 1. 1. 1. 1. 1. 1. 1. 1. 1.\n",
      " 1. 1. 1. 1. 1. 1. 1. 1. 1. 1. 1. 1. 1. 1. 1. 1. 1. 1. 1. 1. 1. 1. 1. 1.\n",
      " 1. 1. 1. 1. 1. 1. 1. 1. 1. 1. 1. 1. 1. 1. 1. 1. 1. 1. 1. 1. 1. 1. 1. 1.\n",
      " 1. 1. 1. 1. 1. 1. 1. 1. 1. 1. 1. 1. 1. 1. 1. 1. 1. 1. 1. 1. 1. 1. 1. 1.\n",
      " 1. 1. 1. 1. 1. 1. 1. 1. 1. 1. 1. 1. 1. 1. 1. 1. 1. 1. 1. 1. 1. 1. 1. 1.\n",
      " 1. 1. 1. 1. 1. 1. 1. 1. 1. 1. 1. 1. 1. 1. 1. 1. 1. 1. 1. 1. 1. 1. 1. 1.\n",
      " 1. 1. 1. 1. 1. 1. 1. 1. 1. 1. 1. 1. 1. 1. 1. 1. 1. 1. 1. 1. 1. 1. 1. 1.\n",
      " 1. 1. 1. 1. 1. 1. 1. 1. 1. 1. 1. 1. 1. 1. 1. 1. 1. 1. 1. 1. 1. 1. 1. 1.\n",
      " 1. 1. 1. 1. 1. 1. 1. 1. 1. 1. 1. 1. 1. 1. 1.]\n"
     ]
    }
   ],
   "source": [
    "print(y)"
   ]
  },
  {
   "cell_type": "code",
   "execution_count": 24,
   "metadata": {},
   "outputs": [
    {
     "data": {
      "image/png": "[encoded data removed]",
      "text/plain": [
       "<Figure size 576x396 with 1 Axes>"
      ]
     },
     "metadata": {},
     "output_type": "display_data"
    }
   ],
   "source": [
    "plt.scatter(x[:,0],x[:,1],c=y)\n",
    "plt.show()"
   ]
  },
  {
   "cell_type": "code",
   "execution_count": 28,
   "metadata": {},
   "outputs": [
    {
     "data": {
      "image/png": "[encoded data removed]",
      "text/plain": [
       "<Figure size 576x396 with 1 Axes>"
      ]
     },
     "metadata": {},
     "output_type": "display_data"
    }
   ],
   "source": [
    "query=np.array([2,3])\n",
    "plt.scatter(query[0],query[1],c='r')\n",
    "plt.scatter(x[:,0],x[:,1],c=y)\n",
    "plt.show()"
   ]
  },
  {
   "cell_type": "code",
   "execution_count": 29,
   "metadata": {},
   "outputs": [],
   "source": [
    "#knn"
   ]
  },
  {
   "cell_type": "code",
   "execution_count": 31,
   "metadata": {},
   "outputs": [],
   "source": [
    "#1.find k nearest neigbours\n",
    "#1.1 based on distance "
   ]
  },
  {
   "cell_type": "code",
   "execution_count": 32,
   "metadata": {},
   "outputs": [],
   "source": [
    "#distance formula between two numpy arrays euclidean distance\n",
    "def dis(x1,x2):\n",
    "    return np.sqrt(sum((x1-x2)**2))"
   ]
  },
  {
   "cell_type": "code",
   "execution_count": 55,
   "metadata": {},
   "outputs": [],
   "source": [
    "# KNN ALGO\n",
    "def knn(x,y,querypoint,k=5):\n",
    "    # pick k nearest neighbours for every point in x\n",
    "    vals=[]\n",
    "    for i in range(x.shape[0]):\n",
    "        #compute distance\n",
    "        d=dis(querypoint,x[i])\n",
    "        vals.append((d,y[i]))\n",
    "    print(vals) \n",
    "    #sort the array and find k nearest points\n",
    "    vals=sorted(vals)\n",
    "    vals=vals[:k]\n",
    "    #majority vote   \n",
    "    vals=np.array(vals)\n",
    "    newval=np.unique(vals[:, 1],return_counts=True)\n",
    "    #print(newval)\n",
    "    #index of maxcount\n",
    "    index=newval[1].argmax()\n",
    "    #mapping this index with my data\n",
    "    pred=newval[0][index]\n",
    "    return pred\n",
    "        "
   ]
  },
  {
   "cell_type": "code",
   "execution_count": 56,
   "metadata": {},
   "outputs": [
    {
     "name": "stdout",
     "output_type": "stream",
     "text": [
      "[(4.44536394886515, 0.0), (5.200868179516685, 0.0), (5.105451745099328, 0.0), (4.675533306384443, 0.0), (4.100498787302277, 0.0), (4.957753531007138, 0.0), (2.8893295213622356, 0.0), (5.258653974468982, 0.0), (5.081973841672818, 0.0), (4.22753793110521, 0.0), (4.0616439185204625, 0.0), (4.668948825368965, 0.0), (3.93291451942823, 0.0), (4.437425940610364, 0.0), (4.614739496431564, 0.0), (4.388118821115073, 0.0), (3.9833645199154564, 0.0), (4.580169771888957, 0.0), (3.4258604011397273, 0.0), (4.619902788544384, 0.0), (3.7912638811547756, 0.0), (4.536033589297111, 0.0), (5.920296602630527, 0.0), (3.528085068091552, 0.0), (4.438598464420228, 0.0), (4.0184602744091436, 0.0), (5.524465485349877, 0.0), (3.7008931243337204, 0.0), (3.9871445178316067, 0.0), (3.571491195872065, 0.0), (4.5230140606805165, 0.0), (4.337115674635484, 0.0), (5.507273212974025, 0.0), (4.283095812423745, 0.0), (5.380421918676141, 0.0), (4.322184415092946, 0.0), (3.8899323037435054, 0.0), (4.164478631773786, 0.0), (3.5902561772063426, 0.0), (4.733288344805433, 0.0), (3.4841308063792265, 0.0), (3.990323894711764, 0.0), (3.326606667881887, 0.0), (4.515988505066527, 0.0), (4.316760877835839, 0.0), (5.0257442538823796, 0.0), (5.5604802220870635, 0.0), (4.566447579574959, 0.0), (2.823180549451065, 0.0), (3.966964206842477, 0.0), (5.128196904444847, 0.0), (4.070127625599656, 0.0), (4.330230374305801, 0.0), (3.991386279399033, 0.0), (3.593881365347738, 0.0), (4.784463043131271, 0.0), (4.136075976668943, 0.0), (3.5693978760658425, 0.0), (4.5978902018274255, 0.0), (2.7663821123114185, 0.0), (4.513280978679144, 0.0), (4.473585459074069, 0.0), (5.369786820597523, 0.0), (5.0711234465509305, 0.0), (4.00830426649259, 0.0), (4.483714039261528, 0.0), (5.264246955276983, 0.0), (3.4168260870884137, 0.0), (3.646403699315261, 0.0), (4.845443944948916, 0.0), (3.3734465326114016, 0.0), (4.969447012149695, 0.0), (3.5898967354643725, 0.0), (4.399961976520406, 0.0), (4.768766125172378, 0.0), (4.588329216668598, 0.0), (4.729519072083487, 0.0), (3.331299898178117, 0.0), (5.027892449254333, 0.0), (4.488378755382771, 0.0), (4.01904139790177, 0.0), (4.1110377136766205, 0.0), (4.268626127472592, 0.0), (4.551434435847371, 0.0), (4.769023318732788, 0.0), (5.302932594781379, 0.0), (4.320829326686412, 0.0), (5.103588112828249, 0.0), (3.6442422492115627, 0.0), (5.559139759368614, 0.0), (5.346456979332656, 0.0), (4.945331328071343, 0.0), (4.7512308119065585, 0.0), (3.8591844672943574, 0.0), (4.747119347713716, 0.0), (3.478790365516304, 0.0), (4.896425368495476, 0.0), (4.038793321668562, 0.0), (5.593911591402492, 0.0), (4.946703309542543, 0.0), (4.561096092893017, 0.0), (4.074134692510506, 0.0), (4.987689076980173, 0.0), (3.443831196878417, 0.0), (4.049578728444615, 0.0), (3.8188549163988563, 0.0), (4.011365581074791, 0.0), (4.651794949856651, 0.0), (4.514116175690562, 0.0), (5.057835858017649, 0.0), (5.542645231514933, 0.0), (4.242545708343208, 0.0), (5.994989611478419, 0.0), (4.393928630648838, 0.0), (4.572313205109136, 0.0), (3.7323513820221885, 0.0), (2.60843827276391, 0.0), (4.337574290149802, 0.0), (5.226539646589539, 0.0), (5.401647215032524, 0.0), (5.07122581613584, 0.0), (4.202147419749451, 0.0), (5.765504588683944, 0.0), (3.7178719669454874, 0.0), (3.1221514083176394, 0.0), (4.199924410454776, 0.0), (5.217787918396668, 0.0), (3.7113348664066415, 0.0), (3.009039307179891, 0.0), (5.1051447754588, 0.0), (4.384505511741139, 0.0), (4.35074496534006, 0.0), (4.300150627559516, 0.0), (4.07407475988133, 0.0), (4.5810607914796915, 0.0), (4.672693637727387, 0.0), (5.085173321522548, 0.0), (4.161266251295242, 0.0), (4.413056522895719, 0.0), (4.728259150096398, 0.0), (5.270130834508755, 0.0), (3.6692548299819987, 0.0), (3.6575161626641557, 0.0), (4.062854620584177, 0.0), (3.7919355312741687, 0.0), (4.1805838450586075, 0.0), (3.4627014228879336, 0.0), (4.015931273296806, 0.0), (5.101730580423206, 0.0), (3.967750112602736, 0.0), (4.690416458129194, 0.0), (4.892787664053545, 0.0), (4.808637911402039, 0.0), (3.747626080419988, 0.0), (3.107880070694984, 0.0), (3.819756012041798, 0.0), (4.112384581760289, 0.0), (4.406002948400662, 0.0), (3.9509414784168886, 0.0), (3.765728948705367, 0.0), (4.764744700862678, 0.0), (5.858583163011591, 0.0), (4.619940980028142, 0.0), (4.135268141206494, 0.0), (4.151320930227686, 0.0), (4.0165912702354705, 0.0), (5.441577605465866, 0.0), (4.241229286453253, 0.0), (4.087611949748555, 0.0), (3.714669311693903, 0.0), (6.112164938913961, 0.0), (5.178232334148103, 0.0), (4.429842243023411, 0.0), (4.025101572184043, 0.0), (3.8426707959150854, 0.0), (4.853972249629511, 0.0), (4.8770684991914575, 0.0), (4.511247456051249, 0.0), (2.914883495405258, 0.0), (4.316753914439593, 0.0), (4.9399597691722645, 0.0), (4.9464350802651476, 0.0), (3.887927176068096, 0.0), (5.105358290669368, 0.0), (4.37560767446443, 0.0), (4.2459691386091984, 0.0), (3.7509980537742544, 0.0), (4.3161328656773374, 0.0), (4.282755587713086, 0.0), (4.9783466353692765, 0.0), (4.722645228740485, 0.0), (5.201778742908021, 0.0), (4.293398622656257, 0.0), (4.656051025113635, 0.0), (4.882928784107971, 0.0), (3.906250155435353, 0.0), (3.6980709157792444, 0.0), (5.692672782794507, 0.0), (5.939193785933311, 0.0), (0.05523105803397903, 1.0), (1.107646800992888, 1.0), (0.16441146047360822, 1.0), (1.79462694529112, 1.0), (1.221877332113777, 1.0), (0.9401039948593688, 1.0), (0.7464291890462051, 1.0), (0.2631571291353633, 1.0), (0.8497932359799472, 1.0), (2.387107710681507, 1.0), (2.016111239710947, 1.0), (1.6509848139849124, 1.0), (2.3059831521702594, 1.0), (0.8213094423542672, 1.0), (0.4940111361089025, 1.0), (0.8611663996022666, 1.0), (1.035045733073418, 1.0), (0.646057274664927, 1.0), (0.4317622826829441, 1.0), (0.6707439432869304, 1.0), (1.0421790473528476, 1.0), (0.2935439440909495, 1.0), (0.22297696547516188, 1.0), (1.291917652989883, 1.0), (1.0958770278907919, 1.0), (0.9527878978138052, 1.0), (0.9981440434317608, 1.0), (1.5698237258592267, 1.0), (0.9122526755235422, 1.0), (0.9076544059265802, 1.0), (0.40849890148683715, 1.0), (1.013826875663688, 1.0), (0.7640559732035238, 1.0), (1.3798714524128652, 1.0), (1.548461409458615, 1.0), (0.4295298130626019, 1.0), (1.1927351488569942, 1.0), (0.3806256877840324, 1.0), (0.873804543051839, 1.0), (1.1840957784219563, 1.0), (0.6087504460131762, 1.0), (1.6375385398233984, 1.0), (1.2039924086969398, 1.0), (1.0889103561533446, 1.0), (1.4810530665839643, 1.0), (0.5229136607926673, 1.0), (0.5351012452553582, 1.0), (1.9957393817713565, 1.0), (1.2118238920998228, 1.0), (0.22103017373637904, 1.0), (0.7540098797288222, 1.0), (1.2768962095499818, 1.0), (2.3167504531942162, 1.0), (0.9124604429512749, 1.0), (0.8578674896201001, 1.0), (0.8577892623620232, 1.0), (0.7037399211479635, 1.0), (0.7942540783354206, 1.0), (1.8495491735998237, 1.0), (1.757240181863592, 1.0), (1.5416015998783565, 1.0), (1.5791317198975634, 1.0), (0.9436122732375013, 1.0), (1.681922920910206, 1.0), (0.5163734136747222, 1.0), (0.2537449233003247, 1.0), (0.7447187039918973, 1.0), (1.8370917979721766, 1.0), (1.5173885023681382, 1.0), (0.22212241354522416, 1.0), (0.2936603452691894, 1.0), (1.8801743732997587, 1.0), (2.3209467228691394, 1.0), (0.7851711300670481, 1.0), (0.8962369860656116, 1.0), (0.511115810170465, 1.0), (1.199537085817168, 1.0), (1.0753203058999123, 1.0), (1.5245030409060736, 1.0), (0.7525287443014235, 1.0), (1.6284656728535702, 1.0), (0.5914559880342091, 1.0), (0.8812648870505619, 1.0), (1.1244831176459564, 1.0), (1.7839827197341005, 1.0), (0.671738778186438, 1.0), (1.0826628642082659, 1.0), (1.2948805296862749, 1.0), (1.2249188336362196, 1.0), (0.4400943416477904, 1.0), (1.2636853713698908, 1.0), (1.0058582441844968, 1.0), (0.27447350049988245, 1.0), (0.9132314845555471, 1.0), (0.531033985022143, 1.0), (1.7307254389772504, 1.0), (1.3424148153860707, 1.0), (3.569337243329552, 1.0), (0.12729260253529787, 1.0), (0.5735428765316415, 1.0), (0.3817806832282003, 1.0), (1.0854775658531288, 1.0), (1.2700127033111577, 1.0), (1.1347408847652543, 1.0), (0.2757224721927424, 1.0), (0.7969210281751581, 1.0), (0.7678719668085487, 1.0), (1.1562739161931375, 1.0), (0.8896395130281646, 1.0), (0.7627100949321267, 1.0), (0.5639867043098378, 1.0), (2.5860052454036766, 1.0), (0.6894824483732248, 1.0), (1.1547465712437772, 1.0), (0.7774938475820322, 1.0), (0.8936045282973676, 1.0), (1.1046533426683889, 1.0), (0.8171345320877429, 1.0), (0.789167579481107, 1.0), (1.3349589398798898, 1.0), (2.2681225045237507, 1.0), (1.349989677225372, 1.0), (0.637544680314044, 1.0), (0.46027153925196324, 1.0), (0.11091543689364952, 1.0), (1.4415899255293088, 1.0), (0.724401970806189, 1.0), (2.044594108666361, 1.0), (1.1405645962750526, 1.0), (0.7110095875882643, 1.0), (1.977010579350378, 1.0), (0.24837216333909223, 1.0), (0.7381048928298759, 1.0), (1.0513867876718033, 1.0), (1.0945340402173946, 1.0), (0.8620761921267306, 1.0), (1.8784856992041827, 1.0), (0.4623580176563347, 1.0), (1.4513232561067033, 1.0), (1.4885811550996317, 1.0), (1.860328189238153, 1.0), (1.7111102062984067, 1.0), (1.6342297386175977, 1.0), (0.0562217333064563, 1.0), (0.46153812532391203, 1.0), (0.23863314739665806, 1.0), (1.572257536775888, 1.0), (0.28626497401965323, 1.0), (1.698334937443932, 1.0), (1.0805609564141418, 1.0), (0.771600508398938, 1.0), (0.8306266409296228, 1.0), (1.1899941509792058, 1.0), (1.424648625306534, 1.0), (1.0311875271345015, 1.0), (0.9489971109015283, 1.0), (1.0471630535822156, 1.0), (0.7419537460155097, 1.0), (0.6924833164331065, 1.0), (0.8905590407667913, 1.0), (1.4315129201645689, 1.0), (1.5152750232846306, 1.0), (1.2609964974771337, 1.0), (0.4997914362530889, 1.0), (1.244606336347417, 1.0), (2.139104571025282, 1.0), (1.701655606836935, 1.0), (1.7716082235963724, 1.0), (1.4680751081691135, 1.0), (0.5622391426087427, 1.0), (0.9175084342039604, 1.0), (2.1316764291688215, 1.0), (0.305707477273014, 1.0), (1.2443752148802707, 1.0), (0.7632727232178309, 1.0), (1.1775622583596812, 1.0), (0.7001070721161488, 1.0), (1.2273652082545694, 1.0), (0.9611407410846693, 1.0), (2.0984813170889227, 1.0), (0.6695098247335056, 1.0), (1.7580966271963425, 1.0), (0.47846949108462716, 1.0), (0.36352667663529203, 1.0), (1.73678318043273, 1.0), (0.22191439851738592, 1.0), (0.8537419706954498, 1.0), (1.0234897319749587, 1.0), (0.9463607901086146, 1.0), (1.2320932765241948, 1.0), (0.9216471731267267, 1.0), (0.4692505513908459, 1.0), (1.5371763499800521, 1.0), (0.3749838320005046, 1.0), (1.4643137761302762, 1.0), (2.1133590578278003, 1.0), (0.9328155306192811, 1.0), (0.7925766428776759, 1.0), (1.9530969967368734, 1.0), (0.5273091416110183, 1.0)]\n"
     ]
    },
    {
     "data": {
      "text/plain": [
       "1.0"
      ]
     },
     "execution_count": 56,
     "metadata": {},
     "output_type": "execute_result"
    }
   ],
   "source": [
    "knn(x,y,[2,3])"
   ]
  },
  {
   "cell_type": "code",
   "execution_count": 52,
   "metadata": {},
   "outputs": [],
   "source": [
    "np.unique?"
   ]
  },
  {
   "cell_type": "code",
   "execution_count": 44,
   "metadata": {},
   "outputs": [],
   "source": [
    "data,count=np.unique([1,1,2,2,3,3,3],return_counts=True)"
   ]
  },
  {
   "cell_type": "code",
   "execution_count": 45,
   "metadata": {},
   "outputs": [
    {
     "data": {
      "text/plain": [
       "array([1, 2, 3])"
      ]
     },
     "execution_count": 45,
     "metadata": {},
     "output_type": "execute_result"
    }
   ],
   "source": [
    "data"
   ]
  },
  {
   "cell_type": "code",
   "execution_count": 46,
   "metadata": {},
   "outputs": [
    {
     "data": {
      "text/plain": [
       "array([2, 2, 3], dtype=int64)"
      ]
     },
     "execution_count": 46,
     "metadata": {},
     "output_type": "execute_result"
    }
   ],
   "source": [
    "count"
   ]
  },
  {
   "cell_type": "code",
   "execution_count": null,
   "metadata": {},
   "outputs": [],
   "source": []
  }
 ],
 "metadata": {
  "kernelspec": {
   "display_name": "Python 3",
   "language": "python",
   "name": "python3"
  },
  "language_info": {
   "codemirror_mode": {
    "name": "ipython",
    "version": 3
   },
   "file_extension": ".py",
   "mimetype": "text/x-python",
   "name": "python",
   "nbconvert_exporter": "python",
   "pygments_lexer": "ipython3",
   "version": "3.8.5"
  }
 },
 "nbformat": 4,
 "nbformat_minor": 4
}
